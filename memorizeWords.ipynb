{
 "cells": [
  {
   "cell_type": "markdown",
   "id": "d5733dda",
   "metadata": {},
   "source": [
    "## 단어 외우기 프로그램\n",
    "\n",
    "### 기능\n",
    "\n",
    "1. 시작 :\n",
    "\n",
    "    a. 세트 리스트 랜덤하게 섞기\n",
    "    \n",
    "    b. 화면에 단어와 뜻과 사용례를 순차적으로 표시 (n//3초 간격)\n",
    "    \n",
    "    c. 다음 한자로 진행\n",
    "    \n",
    "    \n",
    "2. 중지 :\n",
    "\n",
    "    a. 재생 중이던 것을 중단함. (pause)\n",
    "    \n",
    "    \n",
    "3. 재생 : \n",
    "\n",
    "    a. 중지된 부분부터 재생\n",
    "    \n",
    "\n",
    "3. 학습 세트 선택\n",
    "\n",
    "    a. default는 전 세트, 따로 지정할 시 해당 세트만 학습함 (checkbox)\n",
    "    \n",
    "\n",
    "4. 음성 안내 \n",
    "\n",
    "    a. 음성 데이터가 있는 경우 음성 재생 (뜻과 사용례 나올 때 재생)\n",
    "    \n",
    "\n",
    "5. 화면 대기 시간(s) 설정\n",
    "\n",
    "    a. 한 단어에 소요할 학습 시간 설정 (default : 5s)\n",
    "    \n",
    "    \n",
    "6. 즐겨찾기 지정\n",
    "\n",
    "    a. 해당 단어를 즐겨찾기 세트에 저장 (checkbox)\n"
   ]
  },
  {
   "cell_type": "code",
   "execution_count": 1,
   "id": "5ddbe4d0",
   "metadata": {},
   "outputs": [],
   "source": [
    "import tkinter as tk\n",
    "import threading"
   ]
  },
  {
   "cell_type": "code",
   "execution_count": 2,
   "id": "80079085",
   "metadata": {},
   "outputs": [],
   "source": [
    "f = open(\"./kanji_list.txt\", 'r', encoding='UTF8')\n",
    "kanji_list = f.read()\n",
    "f.close()"
   ]
  },
  {
   "cell_type": "code",
   "execution_count": 6,
   "id": "9885ef53",
   "metadata": {
    "scrolled": true
   },
   "outputs": [],
   "source": [
    "def Start():\n",
    "    for i in kanji_list:\n",
    "        lbl_kanji.config(text=i)\n",
    "        sleep(3)\n",
    "    return None"
   ]
  },
  {
   "cell_type": "code",
   "execution_count": 7,
   "id": "261bb63a",
   "metadata": {},
   "outputs": [],
   "source": [
    "def startThread():\n",
    "    thread = threading.Thread(target=Start)\n",
    "    thread.daemon = True\n",
    "    thread.start()\n",
    "    # [출처] [Python] 파이썬 GUI 환경에서 응답 없음, 멈춤 현상 쓰레드(Thread)로 해결|작성자 넬티아\n",
    "    return None"
   ]
  },
  {
   "cell_type": "code",
   "execution_count": null,
   "id": "b51733fe",
   "metadata": {},
   "outputs": [],
   "source": []
  },
  {
   "cell_type": "code",
   "execution_count": 9,
   "id": "3440c138",
   "metadata": {},
   "outputs": [],
   "source": [
    "from time import sleep\n",
    "import tkinter.font\n",
    "\n",
    "win = tk.Tk()\n",
    "\n",
    "font=tk.font.Font(family=\"맑은 고딕\", size=50, slant=\"italic\")\n",
    "\n",
    "lbl_kanji = tk.Label(win, text='', font=font)\n",
    "lbl_kanji.pack()\n",
    "\n",
    "\n",
    "# 처음부터 시작\n",
    "btn_Start = tk.Button(win, text='시작', command=startThread)\n",
    "btn_Start.pack(side='top')\n",
    "\n",
    "# 중지 버튼\n",
    "\n",
    "# (이어서) 재생 버튼\n",
    "\n",
    "\n",
    "win.mainloop()"
   ]
  },
  {
   "cell_type": "code",
   "execution_count": null,
   "id": "a99fce04",
   "metadata": {},
   "outputs": [],
   "source": []
  }
 ],
 "metadata": {
  "kernelspec": {
   "display_name": "Python 3 (ipykernel)",
   "language": "python",
   "name": "python3"
  },
  "language_info": {
   "codemirror_mode": {
    "name": "ipython",
    "version": 3
   },
   "file_extension": ".py",
   "mimetype": "text/x-python",
   "name": "python",
   "nbconvert_exporter": "python",
   "pygments_lexer": "ipython3",
   "version": "3.9.7"
  }
 },
 "nbformat": 4,
 "nbformat_minor": 5
}
