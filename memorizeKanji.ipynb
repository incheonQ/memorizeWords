{
 "cells": [
  {
   "cell_type": "code",
   "execution_count": null,
   "id": "c171f9d3",
   "metadata": {},
   "outputs": [],
   "source": []
  },
  {
   "cell_type": "code",
   "execution_count": 55,
   "id": "665ec4cf",
   "metadata": {},
   "outputs": [],
   "source": [
    "from time import sleep\n",
    "import tkinter as tk\n",
    "from threading import Thread, Event\n",
    "import tkinter.font\n",
    "import os\n",
    "import random\n",
    "import webbrowser\n",
    "import requests\n",
    "from bs4 import BeautifulSoup"
   ]
  },
  {
   "cell_type": "code",
   "execution_count": 56,
   "id": "b170be50",
   "metadata": {},
   "outputs": [],
   "source": [
    "def addSet():\n",
    "    pass\n",
    "\n",
    "def removeSet():\n",
    "    pass\n",
    "\n",
    "def Restart():\n",
    "    win.destroy()\n",
    "    os.system('./memorizeKanji.py')\n",
    "\n",
    "def Close():\n",
    "    win.quit()\n",
    "    win.destroy()\n",
    "\n",
    "def openDeveloperSite():\n",
    "    url = \"https://github.com/incheonQ/memorizeWords\"\n",
    "    webbrowser.open(url)\n",
    "\n",
    "    \n",
    "    \n",
    "    \n",
    "    \n",
    "def Start(wordset_list, t):\n",
    "    for idx, i in enumerate(wordset_list):\n",
    "        lbl_word.config(text=i)\n",
    "        lbl_answer.config(text=yomi(i))\n",
    "        sleep(t)\n",
    "    \n",
    "            \n",
    "def startThread():\n",
    " \n",
    "    # 세트 섞기\n",
    "    wordset_list = Randomize(wordset)\n",
    "    \n",
    "    # 쓰레드 실행\n",
    "    thread = Thread(target=Start, args=(wordset_list, t))\n",
    "    thread.daemon = True\n",
    "    thread.start()\n",
    "    \n",
    "def Randomize(wordset):\n",
    "    global wordset_list\n",
    "    wordset_list = [' '+i+' ' for i in wordset]\n",
    "    random.shuffle(wordset_list)\n",
    "    return wordset_list\n",
    "\n",
    "def Stop():\n",
    "    pass\n",
    "\n",
    "def Reset():\n",
    "    pass\n",
    "\n",
    "def yomi(kanji):\n",
    "    url = f\"https://dictionary.goo.ne.jp/word/kanji/{kanji}/\"\n",
    "    soup = BeautifulSoup(requests.get(url).text)\n",
    "    \n",
    "    yomi_list = []\n",
    "    \n",
    "    reads = soup.find('div', 'reads')\n",
    "        \n",
    "    for i in reads.find_all('dd'):\n",
    "        for j in i.find_all('span', 'yomi'):\n",
    "            yomi_list.append(j.get_text())\n",
    "            yomi_list.append(', ')\n",
    "        yomi_list.append('\\n')\n",
    "    \n",
    "    return ''.join(yomi_list)\n"
   ]
  },
  {
   "cell_type": "code",
   "execution_count": 57,
   "id": "3c5c1ade",
   "metadata": {},
   "outputs": [
    {
     "name": "stdout",
     "output_type": "stream",
     "text": [
      "['リュウ', ', ', '\\n', 'つぶ', ', ', '\\n']\n",
      "['ガ', ', ', '\\n', '［外］みやび', ', ', 'みやびやか', ', ', 'つね', ', ', '\\n']\n",
      "['ヒ', ', ', '\\n', 'さける', ', ', '［外］よける', ', ', '\\n']\n",
      "['ショウ', ', ', '\\n', '［外］あや', ', ', 'しるし', ', ', 'ふみ', ', ', '\\n']\n",
      "['レイ', ', ', 'リン', ', ', '\\n', 'すず', ', ', '\\n']\n",
      "['イン', ', ', '［外］エツ', ', ', 'エン', ', ', '\\n', '［外］のど', ', ', 'むせぶ', ', ', 'のむ', ', ', '\\n']\n",
      "['イン', ', ', '［外］オン', ', ', 'アン', ', ', '\\n', 'かげ', ', ', 'かげる', ', ', '［外］くらい', ', ', 'ひそか', ', ', '\\n']\n",
      "['キ', ', ', '\\n', 'はた［中］', ', ', '［外］からくり', ', ', 'きざし', ', ', 'はずみ', ', ', 'おり', ', ', '\\n']\n"
     ]
    }
   ],
   "source": [
    "win = tk.Tk()\n",
    "win.title('단어 외우기')\n",
    "win.geometry('320x280')\n",
    "win.resizable(0,0)\n",
    "\n",
    "# #️⃣ 이니셜 포인트\n",
    "\n",
    "f = open(\"./kanji_list.txt\", 'r', encoding='UTF8')\n",
    "wordset = f.read()\n",
    "f.close()\n",
    "t = 3\n",
    "\n",
    "# #️⃣ 메뉴\n",
    "menubar=tkinter.Menu(win)\n",
    "\n",
    "# 메뉴:조작\n",
    "menu_1=tkinter.Menu(menubar, tearoff=0)\n",
    "menu_1.add_command(label=\"세트 추가\", command=addSet)\n",
    "menu_1.add_command(label=\"세트 삭제\", command=removeSet)\n",
    "menu_1.add_separator()\n",
    "menu_1.add_command(label=\"재시작\", command=Restart)\n",
    "menu_1.add_command(label=\"종료\", command=Close)\n",
    "menubar.add_cascade(label=\"조작\", menu=menu_1)\n",
    "\n",
    "# 메뉴:도움\n",
    "menu_2=tkinter.Menu(menubar, tearoff=0)\n",
    "menu_2.add_command(label=\"개발자 사이트\", command=openDeveloperSite)\n",
    "menubar.add_cascade(label=\"도움\", menu=menu_2)\n",
    "win.config(menu=menubar)\n",
    "\n",
    "\n",
    "# #️⃣ 화면 표시\n",
    "font_word=tk.font.Font(family=\"맑은 고딕\", size=50, slant=\"italic\")\n",
    "font_answer=tk.font.Font(family=\"맑은 고딕\", size=10, slant=\"roman\")\n",
    "\n",
    "frame_window = tk.Frame(win)\n",
    "frame_window.pack(side='top')\n",
    "\n",
    "lbl_word = tk.Label(frame_window, text='', font=font_word)\n",
    "lbl_answer = tk.Label(frame_window, text='', font=font_answer)\n",
    "\n",
    "lbl_word.pack()\n",
    "lbl_answer.pack()\n",
    "\n",
    "# #️⃣ 조작\n",
    "frame_control = tk.Frame(win)\n",
    "frame_control.pack(side='bottom')\n",
    "\n",
    "# 시작\n",
    "btn_Start = tk.Button(frame_control, text='시작', command = startThread)\n",
    "\n",
    "\n",
    "btn_Start.pack()\n",
    "\n",
    "\n",
    "\n",
    "\n",
    "\n",
    "\n",
    "\n",
    "\n",
    "win.mainloop()"
   ]
  },
  {
   "cell_type": "code",
   "execution_count": 58,
   "id": "392bdf77",
   "metadata": {},
   "outputs": [
    {
     "data": {
      "text/plain": [
       "[2, 3, 4]"
      ]
     },
     "execution_count": 58,
     "metadata": {},
     "output_type": "execute_result"
    }
   ],
   "source": [
    "[1,2,3,4][1:]"
   ]
  },
  {
   "cell_type": "code",
   "execution_count": 59,
   "id": "70171462",
   "metadata": {},
   "outputs": [],
   "source": [
    "import requests\n",
    "from bs4 import BeautifulSoup"
   ]
  },
  {
   "cell_type": "code",
   "execution_count": 60,
   "id": "0d490c62",
   "metadata": {},
   "outputs": [],
   "source": [
    "def yomi(kanji):\n",
    "    url = f\"https://dictionary.goo.ne.jp/word/kanji/{kanji}/\"\n",
    "    soup = BeautifulSoup(requests.get(url).text)\n",
    "    \n",
    "    yomi_list = []\n",
    "    \n",
    "    reads = soup.find('div', 'reads')\n",
    "        \n",
    "    for i in reads.find_all('dd'):\n",
    "        for j in i.find_all('span', 'yomi'):\n",
    "            yomi_list.append(j.get_text())\n",
    "        yomi_list.append('\\n')\n",
    "        \n",
    "    print(yomi_list)\n",
    "    \n",
    "    return ''.join(yomi_list)"
   ]
  },
  {
   "cell_type": "code",
   "execution_count": 61,
   "id": "2ac1d903",
   "metadata": {},
   "outputs": [
    {
     "name": "stdout",
     "output_type": "stream",
     "text": [
      "['リュウ', 'ル［高］', '\\n', 'ながれる', 'ながす', '\\n']\n"
     ]
    },
    {
     "data": {
      "text/plain": [
       "'リュウル［高］\\nながれるながす\\n'"
      ]
     },
     "execution_count": 61,
     "metadata": {},
     "output_type": "execute_result"
    },
    {
     "name": "stderr",
     "output_type": "stream",
     "text": [
      "Exception in thread Thread-13:\n",
      "Traceback (most recent call last):\n",
      "  File \"C:\\Users\\12182\\anaconda3\\lib\\threading.py\", line 973, in _bootstrap_inner\n",
      "    self.run()\n",
      "  File \"C:\\Users\\12182\\anaconda3\\lib\\threading.py\", line 910, in run\n",
      "    self._target(*self._args, **self._kwargs)\n",
      "  File \"C:\\Users\\12182\\AppData\\Local\\Temp/ipykernel_23508/2019669077.py\", line 25, in Start\n",
      "  File \"C:\\Users\\12182\\anaconda3\\lib\\tkinter\\__init__.py\", line 1646, in configure\n",
      "    return self._configure('configure', cnf, kw)\n",
      "  File \"C:\\Users\\12182\\anaconda3\\lib\\tkinter\\__init__.py\", line 1636, in _configure\n",
      "    self.tk.call(_flatten((self._w, cmd)) + self._options(cnf))\n",
      "RuntimeError: main thread is not in main loop\n"
     ]
    }
   ],
   "source": [
    "yomi('流')"
   ]
  },
  {
   "cell_type": "code",
   "execution_count": null,
   "id": "40c6ac6f",
   "metadata": {},
   "outputs": [],
   "source": []
  }
 ],
 "metadata": {
  "kernelspec": {
   "display_name": "Python 3 (ipykernel)",
   "language": "python",
   "name": "python3"
  },
  "language_info": {
   "codemirror_mode": {
    "name": "ipython",
    "version": 3
   },
   "file_extension": ".py",
   "mimetype": "text/x-python",
   "name": "python",
   "nbconvert_exporter": "python",
   "pygments_lexer": "ipython3",
   "version": "3.9.7"
  }
 },
 "nbformat": 4,
 "nbformat_minor": 5
}
